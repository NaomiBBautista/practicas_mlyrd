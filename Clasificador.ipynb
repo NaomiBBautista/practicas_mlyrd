{
 "cells": [
  {
   "cell_type": "code",
   "execution_count": 12,
   "metadata": {},
   "outputs": [],
   "source": [
    "import torch\n",
    "import torch.nn as nn\n",
    "import torch.nn.functional as F\n",
    "import torchvision.datasets as datasets\n",
    "import torchvision.transforms as transforms\n",
    "import matplotlib.pyplot as plt\n",
    "\n",
    "import cv2\n",
    "import numpy as np"
   ]
  },
  {
   "cell_type": "code",
   "execution_count": 13,
   "metadata": {},
   "outputs": [],
   "source": [
    "camera = cv2.VideoCapture(0)\n",
    "_, image = camera.read()"
   ]
  },
  {
   "cell_type": "code",
   "execution_count": null,
   "metadata": {},
   "outputs": [],
   "source": [
    "image.shape"
   ]
  },
  {
   "cell_type": "code",
   "execution_count": null,
   "metadata": {},
   "outputs": [],
   "source": [
    "model = torch.hub.load('pytorch/vision:v0.10.0', 'deeplabv3_resnet50', pretrained=True)\n",
    "model = model.eval()  # Poner el modelo en modo de evaluación"
   ]
  },
  {
   "cell_type": "code",
   "execution_count": 17,
   "metadata": {},
   "outputs": [],
   "source": [
    "transform = transforms.Compose([\n",
    "    transforms.ToPILImage(),\n",
    "    transforms.Resize((256, 256)),\n",
    "    transforms.ToTensor(),\n",
    "    transforms.Normalize(mean=[0.485, 0.456, 0.406], std=[0.229, 0.224, 0.225]),\n",
    "])"
   ]
  },
  {
   "cell_type": "code",
   "execution_count": 19,
   "metadata": {},
   "outputs": [],
   "source": [
    "def draw_boxes(image, boxes):\n",
    "    image_h, _, _ = image.shape\n",
    " \n",
    "    for box in boxes.xyxy[0]:\n",
    "        xmin = int(box[0])\n",
    "        ymin = int(box[1])\n",
    "        xmax = int(box[2])\n",
    "        ymax = int(box[3])\n",
    "        pred = \"{:.2f}\".format(box[4])\n",
    " \n",
    "        cv2.rectangle(image, (xmin,ymin), (xmax,ymax), (0,255,0), 3)\n",
    "        cv2.putText(image, \n",
    "                    boxes.names[int(box[5])] + ' ' + pred, \n",
    "                    (xmin, ymin - 13), \n",
    "                    cv2.FONT_HERSHEY_SIMPLEX, \n",
    "                    1e-3 * image_h, \n",
    "                    (0,255,0), 2)\n",
    "        \n",
    "    return image"
   ]
  },
  {
   "cell_type": "code",
   "execution_count": null,
   "metadata": {},
   "outputs": [],
   "source": [
    "camera = cv2.VideoCapture(0)\n",
    "\n",
    "while True:\n",
    "    # Capturar un frame desde la cámara\n",
    "    _, frame = camera.read()\n",
    "\n",
    "    # Preprocesar la imagen\n",
    "    input_image = transform(frame).unsqueeze(0)\n",
    "\n",
    "    # Realizar la inferencia en la CPU\n",
    "    with torch.no_grad():\n",
    "        output = model(input_image)\n",
    "        \n",
    "    boxes = model(image)\n",
    "    image = draw_boxes(image, boxes)\n",
    " \n",
    "    cv2.imshow('Deteccion', image)\n",
    "\n",
    "    # Verificar si se presionó la tecla 'q' para salir del bucle\n",
    "    key = cv2.waitKey(1) & 0xFF\n",
    "    if key == ord('q'):\n",
    "        break\n",
    "\n",
    "# Liberar la cámara y cerrar la ventana\n",
    "cv2.destroyAllWindows()\n",
    "camera.release()\n",
    "\n"
   ]
  },
  {
   "cell_type": "code",
   "execution_count": null,
   "metadata": {},
   "outputs": [],
   "source": [
    "camera.release()"
   ]
  },
  {
   "cell_type": "code",
   "execution_count": null,
   "metadata": {},
   "outputs": [],
   "source": [
    "# Inicializar la cámara\n",
    "camera = cv2.VideoCapture(0)\n",
    "\n",
    "while True:\n",
    "    # Capturar un frame desde la cámara\n",
    "    _, frame = camera.read()\n",
    "\n",
    "    # Preprocesar la imagen y convertirla a un tensor de PyTorch\n",
    "    input_image = transform(frame).unsqueeze(0)\n",
    "\n",
    "    # Realizar la inferencia en la CPU\n",
    "    with torch.no_grad():\n",
    "        output = model(input_image)\n",
    "\n",
    "    # Implementa la lógica para procesar la salida del modelo y dibujar las cajas en la imagen\n",
    "    # ...\n",
    "\n",
    "    # Mostrar el frame resultante\n",
    "    cv2.imshow('Deteccion', frame)\n",
    "\n",
    "    # Verificar si se presionó la tecla 'q' para salir del bucle\n",
    "    key = cv2.waitKey(1) & 0xFF\n",
    "    if key == ord('q'):\n",
    "        break\n",
    "\n",
    "# Liberar la cámara y cerrar la ventana\n",
    "cv2.destroyAllWindows()\n",
    "camera.release()"
   ]
  }
 ],
 "metadata": {
  "kernelspec": {
   "display_name": "Python 3",
   "language": "python",
   "name": "python3"
  },
  "language_info": {
   "codemirror_mode": {
    "name": "ipython",
    "version": 3
   },
   "file_extension": ".py",
   "mimetype": "text/x-python",
   "name": "python",
   "nbconvert_exporter": "python",
   "pygments_lexer": "ipython3",
   "version": "3.11.6"
  }
 },
 "nbformat": 4,
 "nbformat_minor": 2
}
