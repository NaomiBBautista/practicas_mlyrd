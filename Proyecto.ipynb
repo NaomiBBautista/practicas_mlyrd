{
 "cells": [
  {
   "cell_type": "code",
   "execution_count": null,
   "metadata": {},
   "outputs": [],
   "source": [
    "# Importar bibliotecas necesarias\n",
    "import cv2  # OpenCV para el procesamiento de imágenes\n",
    "import torch  # PyTorch para el modelo YOLOv5\n",
    "import pygame  # Pygame para la reproducción de sonido\n",
    "import time  # Biblioteca de tiempo para el seguimiento del tiempo\n",
    "from pushbullet import Pushbullet"
   ]
  },
  {
   "cell_type": "code",
   "execution_count": null,
   "metadata": {},
   "outputs": [],
   "source": [
    "# Cargar el modelo YOLOv5\n",
    "model = torch.hub.load('ultralytics/yolov5', 'yolov5n', pretrained=True)"
   ]
  },
  {
   "cell_type": "code",
   "execution_count": null,
   "metadata": {},
   "outputs": [],
   "source": [
    "# Inicializar pygame para reproducción de sonido\n",
    "pygame.init()\n",
    "alarma = pygame.mixer.Sound(r\"D:\\LaSalle\\3erSemestre\\MashineLearning\\3erParcial\\NuevoFinalProyecto\\Alarma.wav\")  # Reemplazar con la ruta de tu archivo de sonido\n",
    "\n",
    "# Variable para rastrear la última vez que se detectó un intruso\n",
    "ultimo_intruso = None\n",
    "tiempo_alarma = 2  # Duración para mantener la alarma después de que el intruso se haya ido, en segundos"
   ]
  },
  {
   "cell_type": "code",
   "execution_count": null,
   "metadata": {},
   "outputs": [],
   "source": [
    "# Función para verificar si el objeto detectado está en la mitad izquierda del fotograma\n",
    "def pantalla(det, frame_width):\n",
    "    xmin = int(det[0])\n",
    "    xmax = int(det[2])\n",
    "\n",
    "    # Comprueba si el centro del objeto detectado está en la mitad izquierda del fotograma\n",
    "    center_x = (xmin + xmax) / 2\n",
    "    return center_x"
   ]
  },
  {
   "cell_type": "code",
   "execution_count": null,
   "metadata": {},
   "outputs": [],
   "source": [
    "# Alarma al celular\n",
    "pb = Pushbullet('o.gt8Amm4ifh3hqUlbX8aNZQRWEy7jkC9u')\n",
    "\n",
    "def send_notification():\n",
    "    pb.push_note(\"Alerta de Seguridad\", \"Intruso detectado!\")"
   ]
  },
  {
   "cell_type": "code",
   "execution_count": null,
   "metadata": {},
   "outputs": [],
   "source": [
    "# Función para procesar cada fotograma\n",
    "def process_frame(frame):\n",
    "    global ultimo_intruso\n",
    "\n",
    "   # Convertir el formato de color de BGR a RGB (formato usado por YOLOv5)\n",
    "    frame_rgb = cv2.cvtColor(frame, cv2.COLOR_BGR2RGB)\n",
    "    \n",
    "    # Realizar la detección de objetos usando YOLOv5\n",
    "    results = model(frame_rgb)\n",
    "\n",
    "    # Obtener el ancho del fotograma\n",
    "    frame_width = frame.shape[1]\n",
    "    \n",
    "    # Variable para rastrear si se detecta un intruso en el fotograma actual\n",
    "    intruso = False\n",
    "\n",
    "    # Obtener resultados de la detección de personas\n",
    "    results = results.xyxy[0].numpy()\n",
    "    person_detections = [det for det in results if int(det[5]) == 1]\n",
    "\n",
    "    # Iterar sobre las detecciones de personas y dibujar rectángulos y etiquetas en el fotograma\n",
    "    for det in person_detections:\n",
    "        if pantalla(det, frame_width):\n",
    "            xmin, ymin, xmax, ymax = map(int, det[:4])\n",
    "            cv2.rectangle(frame, (xmin, ymin), (xmax, ymax), (0, 0, 255), 2)\n",
    "            cv2.putText(frame, 'Intruso', (xmin, ymin - 10), cv2.FONT_HERSHEY_SIMPLEX, 1, (0, 0, 255), 2)\n",
    "            intruso = True\n",
    "\n",
    "    # Actualizar el tiempo del último intruso detectado\n",
    "    if intruso:\n",
    "        if ultimo_intruso is None or (time.time() - ultimo_intruso) >= tiempo_alarma:\n",
    "            send_notification()  # Enviar notificación al detectar un intruso\n",
    "        ultimo_intruso = time.time()\n",
    "\n",
    "    # Reproducir o detener la alarma según la detección y el tiempo\n",
    "    current_time = time.time()\n",
    "    if ultimo_intruso and (current_time - ultimo_intruso < tiempo_alarma):\n",
    "        if not pygame.mixer.get_busy():  # Comprobar si el sonido ya está reproduciéndose\n",
    "            pygame.mixer.Sound.play(alarma)\n",
    "    else:\n",
    "        pygame.mixer.stop()  # Detener la alarma si no hay intrusos o el tiempo ha pasado\n",
    "\n",
    "    return frame"
   ]
  },
  {
   "cell_type": "code",
   "execution_count": null,
   "metadata": {},
   "outputs": [],
   "source": [
    "# Inicializar la cámara (usar 0 para la cámara predeterminada)\n",
    "camera = cv2.VideoCapture(0)\n",
    "\n",
    "# Bucle principal para capturar y procesar los fotogramas\n",
    "while True:\n",
    "    ret, frame = camera.read()\n",
    "    if not ret:\n",
    "        break\n",
    "\n",
    "    # Procesar el fotograma\n",
    "    frame = process_frame(frame)\n",
    "\n",
    "    # Mostrar el resultado en una ventana\n",
    "    cv2.imshow('Deteccion de Intrusos', frame)\n",
    "\n",
    "    # Presionar 'q' para salir del bucle\n",
    "    if cv2.waitKey(1) & 0xFF == ord('q'):\n",
    "        break"
   ]
  },
  {
   "cell_type": "code",
   "execution_count": null,
   "metadata": {},
   "outputs": [],
   "source": [
    "# Liberar la cámara y cerrar la ventana\n",
    "camera.release()\n",
    "cv2.destroyAllWindows()"
   ]
  }
 ],
 "metadata": {
  "kernelspec": {
   "display_name": "Python 3",
   "language": "python",
   "name": "python3"
  },
  "language_info": {
   "codemirror_mode": {
    "name": "ipython",
    "version": 3
   },
   "file_extension": ".py",
   "mimetype": "text/x-python",
   "name": "python",
   "nbconvert_exporter": "python",
   "pygments_lexer": "ipython3",
   "version": "3.11.6"
  }
 },
 "nbformat": 4,
 "nbformat_minor": 2
}
